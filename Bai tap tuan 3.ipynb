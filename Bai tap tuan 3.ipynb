{
 "cells": [
  {
   "cell_type": "code",
   "execution_count": 1,
   "id": "c855ce7b",
   "metadata": {},
   "outputs": [
    {
     "name": "stdout",
     "output_type": "stream",
     "text": [
      "12\n"
     ]
    }
   ],
   "source": [
    "n = int(input())\n",
    "print(2 * n)"
   ]
  },
  {
   "cell_type": "code",
   "execution_count": 15,
   "id": "1d1f2813",
   "metadata": {},
   "outputs": [
    {
     "name": "stdout",
     "output_type": "stream",
     "text": [
      "1.21\n"
     ]
    }
   ],
   "source": [
    "a = float(input())\n",
    "b = float(input())\n",
    "print(round((a * b - (a / 2) ** 2 * 3.14), 2))"
   ]
  },
  {
   "cell_type": "code",
   "execution_count": 23,
   "id": "fad4bcda",
   "metadata": {},
   "outputs": [
    {
     "name": "stdout",
     "output_type": "stream",
     "text": [
      "g\n"
     ]
    }
   ],
   "source": [
    "c = input()\n",
    "if c.isupper():\n",
    "    print(c.lower())\n",
    "else:\n",
    "    print(c.upper())\n"
   ]
  },
  {
   "cell_type": "code",
   "execution_count": 25,
   "id": "ad305a66",
   "metadata": {},
   "outputs": [
    {
     "name": "stdout",
     "output_type": "stream",
     "text": [
      "f là kí tu alphabet\n"
     ]
    }
   ],
   "source": [
    "c = input()\n",
    "if c.isalpha():\n",
    "    print(c, \"là kí tu alphabet\")\n",
    "else:\n",
    "    print(c, \"không phải là kí tự alphabet\")"
   ]
  },
  {
   "cell_type": "code",
   "execution_count": 5,
   "id": "f575e3e0",
   "metadata": {},
   "outputs": [
    {
     "name": "stdout",
     "output_type": "stream",
     "text": [
      "20.33\n"
     ]
    }
   ],
   "source": [
    "a = float(input())\n",
    "b = float(input())\n",
    "c = float(input())\n",
    "if a >= b + c:\n",
    " print(\"Khong phai 3 canh cua tam giac\")\n",
    "elif b >= a + c:\n",
    " print(\"Khong phai 3 canh cua tam giac\")\n",
    "elif c >= a + b:\n",
    " print(\"Khong phai 3 canh cua tam giac\")\n",
    "else:\n",
    " p = (a + b + c) / 2\n",
    " print(round(((p * (p - a) * (p - b) * (p - c)) ** (1/2)), 2))\n"
   ]
  },
  {
   "cell_type": "code",
   "execution_count": 42,
   "id": "17cc1b83",
   "metadata": {},
   "outputs": [
    {
     "name": "stdout",
     "output_type": "stream",
     "text": [
      "h\n",
      "j\n"
     ]
    }
   ],
   "source": [
    "n = input()\n",
    "if len(n) < 20:\n",
    "    print(\"wrong input\")\n",
    "else:\n",
    "    print(n[4])\n",
    "    print(n[8])"
   ]
  },
  {
   "cell_type": "code",
   "execution_count": 3,
   "id": "7680f65c",
   "metadata": {},
   "outputs": [
    {
     "name": "stdout",
     "output_type": "stream",
     "text": [
      "a\n"
     ]
    }
   ],
   "source": [
    "x = input()\n",
    "if x.islower():\n",
    "    print(\"Wrong output\")\n",
    "elif x.isupper():\n",
    "     n = ord(x)\n",
    "print(chr(n + 31))    \n",
    "\n",
    "\n",
    "\n"
   ]
  },
  {
   "cell_type": "code",
   "execution_count": 5,
   "id": "63268536",
   "metadata": {},
   "outputs": [
    {
     "name": "stdout",
     "output_type": "stream",
     "text": [
      "Ho va ten: j\n",
      "Tien phai tra la: 3363120.0\n"
     ]
    }
   ],
   "source": [
    "a = input()\n",
    "b = int(input())\n",
    "c = int(input())\n",
    "print(\"Ho va ten:\", a)\n",
    "n = c - b\n",
    "if n > 0 and n <= 50:\n",
    "    print(\"Tien phai tra la:\", n * 1984 * 1.08)\n",
    "elif n > 50 and n <= 100:\n",
    "    print(\"Tien phai tra la:\", n * 2050 * 1.08)\n",
    "elif n > 100 and n <= 200:\n",
    "    print(\"Tien phai tra la:\", n * 2380 * 1.08)\n",
    "elif n > 200 and n <= 300:\n",
    "    print(\"Tien phai tra la:\", n * 2998 * 1.08)\n",
    "elif n > 300 and n <= 400:\n",
    "    print(\"Tien phai tra la:\", n * 3350 * 1.08)\n",
    "elif n > 400:\n",
    "    print(\"Tien phai tra la:\", n * 3460 * 1.08)"
   ]
  },
  {
   "cell_type": "code",
   "execution_count": 2,
   "id": "077b59d5",
   "metadata": {},
   "outputs": [
    {
     "name": "stdout",
     "output_type": "stream",
     "text": [
      "so chan\n"
     ]
    }
   ],
   "source": [
    "n = int(input())\n",
    "if n % 2 == 0:\n",
    "    print(\"so chan\")\n",
    "else:\n",
    "    print(\"so le\")"
   ]
  },
  {
   "cell_type": "code",
   "execution_count": 3,
   "id": "d77aacfa",
   "metadata": {},
   "outputs": [
    {
     "name": "stdout",
     "output_type": "stream",
     "text": [
      "True\n"
     ]
    }
   ],
   "source": [
    "n = int(input())\n",
    "print(n % 10 == 5)"
   ]
  },
  {
   "cell_type": "code",
   "execution_count": 16,
   "id": "2a6e2b9f",
   "metadata": {},
   "outputs": [
    {
     "name": "stdout",
     "output_type": "stream",
     "text": [
      "False\n"
     ]
    }
   ],
   "source": [
    "n = int(input())\n",
    "print(n % 5 == 0)\n"
   ]
  },
  {
   "cell_type": "code",
   "execution_count": 19,
   "id": "4ca3a5ee",
   "metadata": {},
   "outputs": [
    {
     "name": "stdout",
     "output_type": "stream",
     "text": [
      "True\n"
     ]
    }
   ],
   "source": [
    "n = int(input())\n",
    "print(n % 3 == 0 and n % 5 ==0)"
   ]
  },
  {
   "cell_type": "code",
   "execution_count": 21,
   "id": "b93c9f0b",
   "metadata": {},
   "outputs": [
    {
     "name": "stdout",
     "output_type": "stream",
     "text": [
      "khong du tuoi bo phieu\n"
     ]
    }
   ],
   "source": [
    "n = int(input())\n",
    "if 2025 - n >= 18:\n",
    " print(\"du tuoi bo phieu\")\n",
    "else:\n",
    " print(\"khong du tuoi bo phieu\")"
   ]
  },
  {
   "cell_type": "code",
   "execution_count": 27,
   "id": "32d13e97",
   "metadata": {},
   "outputs": [
    {
     "name": "stdout",
     "output_type": "stream",
     "text": [
      "6.7\n"
     ]
    }
   ],
   "source": [
    "a = float(input())\n",
    "b = float(input())\n",
    "if a == b:\n",
    "    print(\"Hai so bang nhau\")\n",
    "else:\n",
    "    print(max(a, b))\n"
   ]
  },
  {
   "cell_type": "code",
   "execution_count": 32,
   "id": "396c7bf1",
   "metadata": {},
   "outputs": [
    {
     "name": "stdout",
     "output_type": "stream",
     "text": [
      "la chu cai\n"
     ]
    }
   ],
   "source": [
    "a = input()\n",
    "if a.isalpha():\n",
    "    print(\"la chu cai\")\n",
    "elif a.isdigit():\n",
    "    print(\"la chu so\")"
   ]
  },
  {
   "cell_type": "code",
   "execution_count": 33,
   "id": "317da814",
   "metadata": {},
   "outputs": [
    {
     "name": "stdout",
     "output_type": "stream",
     "text": [
      "trung binh\n"
     ]
    }
   ],
   "source": [
    "a = float(input())\n",
    "if a >= 8:\n",
    "    print(\"gioi\")\n",
    "elif a >= 6.5 and a < 8:\n",
    "    print(\"kha\")\n",
    "elif a >= 5 and a < 6.5:\n",
    "    print(\"trung binh\")\n",
    "elif a < 5:\n",
    "    print(\"yeu\")\n",
    "    "
   ]
  },
  {
   "cell_type": "code",
   "execution_count": 3,
   "id": "fe6d3c7a",
   "metadata": {},
   "outputs": [
    {
     "name": "stdout",
     "output_type": "stream",
     "text": [
      "nam nhuan\n"
     ]
    }
   ],
   "source": [
    "n = int(input())\n",
    "if n % 4 == 0 and n % 100 != 0 or n % 400 == 0:\n",
    "    print(\"nam nhuan\")\n",
    "else:\n",
    "    print(\"khong phai nam nhuan\")"
   ]
  }
 ],
 "metadata": {
  "kernelspec": {
   "display_name": "base",
   "language": "python",
   "name": "python3"
  },
  "language_info": {
   "codemirror_mode": {
    "name": "ipython",
    "version": 3
   },
   "file_extension": ".py",
   "mimetype": "text/x-python",
   "name": "python",
   "nbconvert_exporter": "python",
   "pygments_lexer": "ipython3",
   "version": "3.13.5"
  }
 },
 "nbformat": 4,
 "nbformat_minor": 5
}
