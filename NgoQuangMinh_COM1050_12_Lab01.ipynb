{
 "cells": [
  {
   "cell_type": "code",
   "execution_count": 7,
   "id": "3aed7bfe",
   "metadata": {},
   "outputs": [
    {
     "name": "stdout",
     "output_type": "stream",
     "text": [
      "Hello World\n"
     ]
    }
   ],
   "source": [
    "print(\"Hello World\")"
   ]
  },
  {
   "cell_type": "code",
   "execution_count": 10,
   "id": "0b811c41",
   "metadata": {},
   "outputs": [
    {
     "name": "stdout",
     "output_type": "stream",
     "text": [
      "Hello, minh\n"
     ]
    }
   ],
   "source": [
    "a = input(\"Enter name\")\n",
    "print(\"Hello, \" + a)"
   ]
  },
  {
   "cell_type": "code",
   "execution_count": 14,
   "id": "04ba57bd",
   "metadata": {},
   "outputs": [
    {
     "name": "stdout",
     "output_type": "stream",
     "text": [
      "15\n",
      "1\n",
      "56\n",
      "1.14\n",
      "1\n",
      "1\n"
     ]
    }
   ],
   "source": [
    "a = int(input())\n",
    "b = int(input())\n",
    "print(a + b)\n",
    "print(a - b)\n",
    "print(a * b)\n",
    "print(round(a / b, 2))\n",
    "print(a % b)\n",
    "print(a // b)"
   ]
  },
  {
   "cell_type": "code",
   "execution_count": 20,
   "id": "c18ad2b2",
   "metadata": {},
   "outputs": [
    {
     "name": "stdout",
     "output_type": "stream",
     "text": [
      "7.6\n"
     ]
    }
   ],
   "source": [
    "a1, b1, c1, a2, b2, a3 = map(float, input().split())\n",
    "Avg = (a1 + b1 + c1 + 2 * a2 + 2 * b2 + 3 * a3) / 10\n",
    "print(round(Avg, 1))"
   ]
  },
  {
   "cell_type": "code",
   "execution_count": 21,
   "id": "fd5f3342",
   "metadata": {},
   "outputs": [
    {
     "name": "stdout",
     "output_type": "stream",
     "text": [
      "32.0\n"
     ]
    }
   ],
   "source": [
    "a, b = map(float, input().split())\n",
    "print(a ** b)"
   ]
  },
  {
   "cell_type": "code",
   "execution_count": 23,
   "id": "9549b48b",
   "metadata": {},
   "outputs": [
    {
     "name": "stdout",
     "output_type": "stream",
     "text": [
      "117\n",
      "U\n"
     ]
    }
   ],
   "source": [
    "a = input()\n",
    "print(ord(a))\n",
    "print(a.upper())"
   ]
  },
  {
   "cell_type": "code",
   "execution_count": 25,
   "id": "04cd3e2a",
   "metadata": {},
   "outputs": [
    {
     "name": "stdout",
     "output_type": "stream",
     "text": [
      "A = 512\n",
      "B = 512\n"
     ]
    }
   ],
   "source": [
    "print(\"A =\", ((13 ** 2) * 3) + 5)\n",
    "print(\"B =\", 13**2*3 + 5)\n"
   ]
  },
  {
   "cell_type": "code",
   "execution_count": 29,
   "id": "fe5b32bd",
   "metadata": {},
   "outputs": [
    {
     "name": "stdout",
     "output_type": "stream",
     "text": [
      "102.15\n"
     ]
    }
   ],
   "source": [
    "Celcius = float(input())\n",
    "Fahrenheit = 9/5 * Celcius + 32\n",
    "print(round(Fahrenheit, 2))"
   ]
  },
  {
   "cell_type": "code",
   "execution_count": 33,
   "id": "33b095f8",
   "metadata": {},
   "outputs": [
    {
     "name": "stdout",
     "output_type": "stream",
     "text": [
      "150.0\n"
     ]
    }
   ],
   "source": [
    "x = float(input())\n",
    "ans = 10 + x * 0.3 + x * 0.1 + x\n",
    "print(round(ans, 2))"
   ]
  },
  {
   "cell_type": "code",
   "execution_count": 36,
   "id": "d852a3be",
   "metadata": {},
   "outputs": [
    {
     "name": "stdout",
     "output_type": "stream",
     "text": [
      "Hi, minh , quang and ngo\n"
     ]
    }
   ],
   "source": [
    "name1 = input()\n",
    "name2 = input()\n",
    "name3 = input()\n",
    "print(\"Hi,\", name3, \",\", name2, \"and\", name1)"
   ]
  },
  {
   "cell_type": "code",
   "execution_count": 37,
   "id": "11817cde",
   "metadata": {},
   "outputs": [
    {
     "name": "stdout",
     "output_type": "stream",
     "text": [
      "7200.0 240.0\n"
     ]
    }
   ],
   "source": [
    "h = float(input())\n",
    "m = float(input())\n",
    "print(h * 3600, m * 60)"
   ]
  },
  {
   "cell_type": "code",
   "execution_count": 39,
   "id": "d6da6e7a",
   "metadata": {},
   "outputs": [
    {
     "name": "stdout",
     "output_type": "stream",
     "text": [
      "48\n"
     ]
    }
   ],
   "source": [
    "n = int(input())\n",
    "print(n * 6)"
   ]
  },
  {
   "cell_type": "code",
   "execution_count": 41,
   "id": "b0229b09",
   "metadata": {},
   "outputs": [
    {
     "name": "stdout",
     "output_type": "stream",
     "text": [
      "8.0\n"
     ]
    }
   ],
   "source": [
    "a = float(input())\n",
    "b = float(input())\n",
    "print(a * b % 10)\n"
   ]
  },
  {
   "cell_type": "code",
   "execution_count": 47,
   "id": "12050c86",
   "metadata": {},
   "outputs": [
    {
     "name": "stdout",
     "output_type": "stream",
     "text": [
      "a = 7.0\n",
      "b = 9.0\n"
     ]
    }
   ],
   "source": [
    "a = float(input())\n",
    "b = float(input())\n",
    "a = a + b\n",
    "b = a - b\n",
    "a = a - b\n",
    "print(\"a =\", a)\n",
    "print(\"b =\", b)"
   ]
  },
  {
   "cell_type": "code",
   "execution_count": 1,
   "id": "49b67f63",
   "metadata": {},
   "outputs": [
    {
     "name": "stdout",
     "output_type": "stream",
     "text": [
      "144\n"
     ]
    }
   ],
   "source": [
    "n = int(input())\n",
    "print(6 * (n - 1) * (n + 1))\n"
   ]
  },
  {
   "cell_type": "code",
   "execution_count": 3,
   "id": "6fdff2c8",
   "metadata": {},
   "outputs": [
    {
     "name": "stdout",
     "output_type": "stream",
     "text": [
      "Spring\n",
      "Summer\n",
      "Autumn\n",
      "Winter\n"
     ]
    }
   ],
   "source": [
    "print(\"Spring\\nSummer\\nAutumn\\nWinter\")\n"
   ]
  },
  {
   "cell_type": "code",
   "execution_count": 2,
   "id": "601affde",
   "metadata": {},
   "outputs": [
    {
     "name": "stdout",
     "output_type": "stream",
     "text": [
      "*\n",
      "**\n",
      "***\n"
     ]
    }
   ],
   "source": [
    "print(\"*\\n**\\n***\")"
   ]
  },
  {
   "cell_type": "code",
   "execution_count": 53,
   "id": "a6649654",
   "metadata": {},
   "outputs": [
    {
     "name": "stdout",
     "output_type": "stream",
     "text": [
      "### ##  ### ###\n",
      " #  # #  #   # \n",
      " #  #  # #   # \n",
      " #  # #  #   # \n",
      " #  ##   #   # \n"
     ]
    }
   ],
   "source": [
    "print(\"### ##  ### ###\")\n",
    "print(\" #  # #  #   # \")\n",
    "print(\" #  #  # #   # \")\n",
    "print(\" #  # #  #   # \")\n",
    "print(\" #  ##   #   # \")"
   ]
  },
  {
   "cell_type": "code",
   "execution_count": 54,
   "id": "018c552f",
   "metadata": {},
   "outputs": [
    {
     "name": "stdout",
     "output_type": "stream",
     "text": [
      "Monday\n",
      "Tuesday\n",
      "Wednesday\n",
      "Thursday\n",
      "Friday\n",
      "Saturday\n",
      "Sunday\n"
     ]
    }
   ],
   "source": [
    "print(\"Monday\\nTuesday\\nWednesday\\nThursday\\nFriday\\nSaturday\\nSunday\")"
   ]
  },
  {
   "cell_type": "code",
   "execution_count": 57,
   "id": "5ed5261f",
   "metadata": {},
   "outputs": [
    {
     "name": "stdout",
     "output_type": "stream",
     "text": [
      "January\n",
      "February\n",
      "March\n",
      "April\n",
      "May\n",
      "June\n",
      "July\n",
      "August\n",
      "September\n",
      "October\n",
      "November\n",
      "December\n"
     ]
    }
   ],
   "source": [
    "print(\"January\\nFebruary\\nMarch\\nApril\\nMay\\nJune\\nJuly\\nAugust\\nSeptember\\nOctober\\nNovember\\nDecember\")"
   ]
  },
  {
   "cell_type": "code",
   "execution_count": 5,
   "id": "04a73b20",
   "metadata": {},
   "outputs": [
    {
     "name": "stdout",
     "output_type": "stream",
     "text": [
      "playingly\n"
     ]
    }
   ],
   "source": [
    "s = str(input())\n",
    "\n",
    "def format(s):\n",
    "   if len(s) < 3:\n",
    "     return s\n",
    "   else:\n",
    "     if \"ing\" in s:\n",
    "       return s + \"ly\"\n",
    "     else:\n",
    "       return s + \"ing\"\n",
    "ans = format(s)\n",
    "print(ans)\n",
    "\n",
    "   "
   ]
  },
  {
   "cell_type": "code",
   "execution_count": 1,
   "id": "31c9db83",
   "metadata": {},
   "outputs": [
    {
     "name": "stdout",
     "output_type": "stream",
     "text": [
      "Hello World\n",
      "Hello World\n",
      "Hello World\n",
      "Hello World\n",
      "Hello World\n",
      "Hello World\n",
      "Hello World\n",
      "Hello World\n",
      "Hello World\n",
      "Hello World\n"
     ]
    }
   ],
   "source": [
    "for i in range(10):\n",
    "    print(\"Hello World\")"
   ]
  },
  {
   "cell_type": "code",
   "execution_count": null,
   "id": "bf82ff71",
   "metadata": {},
   "outputs": [],
   "source": [
    "str = str(input())\n",
    "def words(ca):\n",
    "    lst = ca.split()\n",
    "    ans = []\n",
    "    for n in lst:\n",
    "        if len(n) > 3:\n",
    "            ans.append(n)\n",
    "    return(ans)\n",
    "x = words(str)\n",
    "print(x)"
   ]
  }
 ],
 "metadata": {
  "kernelspec": {
   "display_name": "base",
   "language": "python",
   "name": "python3"
  },
  "language_info": {
   "codemirror_mode": {
    "name": "ipython",
    "version": 3
   },
   "file_extension": ".py",
   "mimetype": "text/x-python",
   "name": "python",
   "nbconvert_exporter": "python",
   "pygments_lexer": "ipython3",
   "version": "3.13.5"
  }
 },
 "nbformat": 4,
 "nbformat_minor": 5
}
